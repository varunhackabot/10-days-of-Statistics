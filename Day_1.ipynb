{
  "nbformat": 4,
  "nbformat_minor": 0,
  "metadata": {
    "colab": {
      "name": "Day_1.ipynb",
      "provenance": []
    },
    "kernelspec": {
      "name": "python3",
      "display_name": "Python 3"
    },
    "language_info": {
      "name": "python"
    }
  },
  "cells": [
    {
      "cell_type": "code",
      "metadata": {
        "id": "rXOE1-m7j_Mx"
      },
      "source": [
        "from scipy import stats\n",
        "import numpy as np\n",
        "n = int(input())\n",
        "a = list(map(int,input().split()))\n",
        "print(np.mean(a))\n",
        "print(np.median(a))\n",
        "print(int(stats.mode(a)[0]))"
      ],
      "execution_count": null,
      "outputs": []
    },
    {
      "cell_type": "code",
      "metadata": {
        "id": "QVhcEil4kl-W"
      },
      "source": [
        "#!/bin/python3\n",
        "\n",
        "import math\n",
        "import os\n",
        "import random\n",
        "import re\n",
        "import sys\n",
        "\n",
        "#\n",
        "# Complete the 'weightedMean' function below.\n",
        "#\n",
        "# The function accepts following parameters:\n",
        "#  1. INTEGER_ARRAY X\n",
        "#  2. INTEGER_ARRAY W\n",
        "#\n",
        "\n",
        "def weightedMean(X, W):\n",
        "    a = 0\n",
        "    p =[]\n",
        "    for i in range(len(X)):\n",
        "        for j in range(len(W)):\n",
        "            if(i==j):\n",
        "                a = X[i]*W[j]\n",
        "                p.append(a)\n",
        "    b = sum(p)\n",
        "    c = sum(W)\n",
        "    d = b/c\n",
        "    print(\"{0:0.1f}\".format(d))\n",
        "            \n",
        "\n",
        "if __name__ == '__main__':\n",
        "    n = int(input().strip())\n",
        "\n",
        "    vals = list(map(int, input().rstrip().split()))\n",
        "\n",
        "    weights = list(map(int, input().rstrip().split()))\n",
        "\n",
        "    weightedMean(vals, weights)\n"
      ],
      "execution_count": null,
      "outputs": []
    }
  ]
}